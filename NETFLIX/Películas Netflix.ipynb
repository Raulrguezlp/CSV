{
 "cells": [
  {
   "cell_type": "markdown",
   "id": "641123c6",
   "metadata": {},
   "source": [
    "# 1.CARGA DE DATOS"
   ]
  },
  {
   "cell_type": "code",
   "execution_count": 3,
   "id": "fdbd110c",
   "metadata": {},
   "outputs": [],
   "source": [
    "import csv\n",
    "import statistics\n",
    "from collections import namedtuple\n",
    "from matplotlib import pyplot as plt"
   ]
  },
  {
   "cell_type": "code",
   "execution_count": 4,
   "id": "f26650d7",
   "metadata": {},
   "outputs": [],
   "source": [
    "Films = namedtuple('Films', 'title, genre, premiere, runtime, imdb_score, language')\n",
    "def lee_datos(netflix):\n",
    "    with open(netflix, encoding = 'utf-8') as f:\n",
    "        lector = csv.reader(f)\n",
    "        next(lector)\n",
    "        peliculas = [Films(title, str(genre), premiere, int(runtime), float(imdb_score), language) for title, genre, premiere, runtime, imdb_score, language in lector]\n",
    "    return peliculas"
   ]
  },
  {
   "cell_type": "code",
   "execution_count": 5,
   "id": "2c33b4e6",
   "metadata": {},
   "outputs": [
    {
     "name": "stdout",
     "output_type": "stream",
     "text": [
      "[Films(title='Enter the Anime', genre='Documentary', premiere='August 5_ 2019', runtime=58, imdb_score=2.5, language='English/Japanese'), Films(title='Dark Forces', genre='Thriller', premiere='August 21_ 2020', runtime=81, imdb_score=2.6, language='Spanish'), Films(title='The App', genre='Science fiction/Drama', premiere='December 26_ 2019', runtime=79, imdb_score=2.6, language='Italian'), Films(title='The Open House', genre='Horror thriller', premiere='January 19_ 2018', runtime=94, imdb_score=3.2, language='English'), Films(title='Kaali Khuhi', genre='Mystery', premiere='October 30_ 2020', runtime=90, imdb_score=3.4, language='Hindi'), Films(title='Drive', genre='Action', premiere='November 1_ 2019', runtime=147, imdb_score=3.5, language='Hindi'), Films(title='Leyla Everlasting', genre='Comedy', premiere='December 4_ 2020', runtime=112, imdb_score=3.7, language='Turkish'), Films(title='The Last Days of American Crime', genre='Heist film/Thriller', premiere='June 5_ 2020', runtime=149, imdb_score=3.7, language='English'), Films(title='Paradox', genre='Musical/Western/Fantasy', premiere='March 23_ 2018', runtime=73, imdb_score=3.9, language='English'), Films(title='Sardar Ka Grandson', genre='Comedy', premiere='May 18_ 2021', runtime=139, imdb_score=4.1, language='Hindi'), Films(title='Searching for Sheela', genre='Documentary', premiere='April 22_ 2021', runtime=58, imdb_score=4.1, language='English'), Films(title='The Call', genre='Drama', premiere='November 27_ 2020', runtime=112, imdb_score=4.1, language='Korean'), Films(title='Whipped', genre='Romantic comedy', premiere='September 18_ 2020', runtime=97, imdb_score=4.1, language='Indonesian'), Films(title='All Because of You', genre='Action comedy', premiere='October 1_ 2020', runtime=101, imdb_score=4.2, language='Malay'), Films(title='Mercy', genre='Thriller', premiere='November 22_ 2016', runtime=90, imdb_score=4.2, language='English')]\n"
     ]
    }
   ],
   "source": [
    "NETFLIX = lee_datos('./data/Netflix.csv')\n",
    "print(NETFLIX[:15])"
   ]
  },
  {
   "cell_type": "markdown",
   "id": "c753bb64",
   "metadata": {},
   "source": [
    "# 2.FILTRADO Y TRUNCADO"
   ]
  },
  {
   "cell_type": "code",
   "execution_count": 21,
   "id": "7961ae85",
   "metadata": {},
   "outputs": [],
   "source": [
    "def filtrado_por_runtime(peliculas, runtime):\n",
    "    return [p for p in peliculas if runtime==p.runtime]\n",
    "#Filtro según la duración de las películas, y pido que me devuelva el nombre de cada una"
   ]
  },
  {
   "cell_type": "code",
   "execution_count": 22,
   "id": "a00879ce",
   "metadata": {},
   "outputs": [
    {
     "name": "stdout",
     "output_type": "stream",
     "text": [
      "[Films(title='Sextuplets', genre='Comedy', premiere='August 16_ 2019', runtime=99, imdb_score=4.4, language='English'), Films(title='The Misadventures of Hedi and Cokeman', genre='Comedy', premiere='February 10_ 2021', runtime=99, imdb_score=4.5, language='French'), Films(title='#REALITYHIGH', genre='Comedy', premiere='September 8_ 2017', runtime=99, imdb_score=5.2, language='English'), Films(title='The Beast', genre='Drama', premiere='November 27_ 2020', runtime=99, imdb_score=5.2, language='Italian'), Films(title='Caught by a Wave', genre='Romantic teen drama', premiere='March 25_ 2021', runtime=99, imdb_score=5.7, language='Italian'), Films(title='The Killer', genre='Western', premiere='November 10_ 2017', runtime=99, imdb_score=6.1, language='Portuguese'), Films(title='Alex Strangelove', genre='Romantic comedy', premiere='June 8_ 2018', runtime=99, imdb_score=6.3, language='English'), Films(title='Walk. Ride. Rodeo.', genre='Drama', premiere='March 8_ 2019', runtime=99, imdb_score=6.4, language='English'), Films(title='The Crimes That Bind', genre='Crime drama', premiere='August 20_ 2020', runtime=99, imdb_score=6.6, language='Spanish'), Films(title='Operation Varsity Blues: The College Admissions Scandal', genre='Documentary', premiere='March 17_ 2021', runtime=99, imdb_score=7.0, language='English'), Films(title=\"To All the Boys I've Loved Before\", genre='Romantic comedy', premiere='August 17_ 2018', runtime=99, imdb_score=7.1, language='English'), Films(title='Seventeen', genre='Coming-of-age comedy-drama', premiere='October 18_ 2019', runtime=99, imdb_score=7.2, language='Spanish'), Films(title='Reversing Roe', genre='Documentary', premiere='September 13_ 2018', runtime=99, imdb_score=7.5, language='English')]\n"
     ]
    }
   ],
   "source": [
    "print(filtrado_por_runtime(NETFLIX,99))"
   ]
  },
  {
   "cell_type": "code",
   "execution_count": 10,
   "id": "f6a022a5",
   "metadata": {},
   "outputs": [
    {
     "name": "stdout",
     "output_type": "stream",
     "text": [
      "['October 28_ 2016', 'October 25_ 2019', 'October 28_ 2020', 'October 22_ 2020', 'May 26_ 2021', 'April 29_ 2021', 'October 4_ 2019', 'October 18_ 2019', 'June 24_ 2020']\n"
     ]
    }
   ],
   "source": [
    "def filtrado_por_genre(peliculas, genre):\n",
    "    return [f.premiere for f in peliculas if genre==f.genre]\n",
    "#Aquí lo que pido es que me de la premiere de todas las películas de género horror \n",
    "print(filtrado_por_genre(NETFLIX,'Horror'))"
   ]
  },
  {
   "cell_type": "code",
   "execution_count": 30,
   "id": "7907eee2",
   "metadata": {},
   "outputs": [
    {
     "name": "stdout",
     "output_type": "stream",
     "text": [
      "['Sextuplets', 'Seriously Single', 'Take the 10', 'The Main Event', '#REALITYHIGH', 'Father of the Year', \"Girlfriend's Day\", 'Handsome: A Netflix Mystery Movie', 'Hubie Halloween', 'Ibiza', 'Sandy Wexler', 'The Week Of', 'Naked', 'Step Sisters', 'Unicorn Store', 'Wine Country', 'Brahman Naman', 'The Sleepover', 'Lionheart', 'The Wrong Missy', 'Yes Day', 'Candy Jar', 'The After Party', 'Between Two Ferns: The Movie', 'Like Father', 'Otherhood', 'Win It All', 'The Incredible Jessica James', 'Death to 2020', 'The 40-Year-Old Version']\n"
     ]
    }
   ],
   "source": [
    "def filtrado_doble(peliculas, genero, idioma):\n",
    "    return [x.title for x in peliculas if genero==x.genre and idioma==x.language]\n",
    "print (filtrado_doble(NETFLIX, 'Comedy', 'English'))"
   ]
  },
  {
   "cell_type": "markdown",
   "id": "70b048b7",
   "metadata": {},
   "source": [
    "## 3.ORDENAR Y MÁXIMOS"
   ]
  },
  {
   "cell_type": "code",
   "execution_count": 20,
   "id": "e3295d9d",
   "metadata": {},
   "outputs": [
    {
     "data": {
      "text/plain": [
       "[Films(title='Enter the Anime', genre='Documentary', premiere='August 5_ 2019', runtime=58, imdb_score=2.5, language='English/Japanese'),\n",
       " Films(title='The App', genre='Science fiction/Drama', premiere='December 26_ 2019', runtime=79, imdb_score=2.6, language='Italian'),\n",
       " Films(title='Dark Forces', genre='Thriller', premiere='August 21_ 2020', runtime=81, imdb_score=2.6, language='Spanish'),\n",
       " Films(title='Kaali Khuhi', genre='Mystery', premiere='October 30_ 2020', runtime=90, imdb_score=3.4, language='Hindi'),\n",
       " Films(title='The Open House', genre='Horror thriller', premiere='January 19_ 2018', runtime=94, imdb_score=3.2, language='English'),\n",
       " Films(title='Drive', genre='Action', premiere='November 1_ 2019', runtime=147, imdb_score=3.5, language='Hindi')]"
      ]
     },
     "execution_count": 20,
     "metadata": {},
     "output_type": "execute_result"
    }
   ],
   "source": [
    "def ordena_por_duracion(films):\n",
    "    return films[3]\n",
    "\n",
    "sorted(NETFLIX[:6], key=ordena_por_duracion)"
   ]
  },
  {
   "cell_type": "code",
   "execution_count": 32,
   "id": "a236a69c",
   "metadata": {},
   "outputs": [
    {
     "data": {
      "text/plain": [
       "[Films(title='David Attenborough: A Life on Our Planet', genre='Documentary', premiere='October 4_ 2020', runtime=83, imdb_score=9.0, language='English'),\n",
       " Films(title=\"Emicida: AmarElo - It's All For Yesterday\", genre='Documentary', premiere='December 8_ 2020', runtime=89, imdb_score=8.6, language='Portuguese'),\n",
       " Films(title='Springsteen on Broadway', genre='One-man show', premiere='December 16_ 2018', runtime=153, imdb_score=8.5, language='English'),\n",
       " Films(title='Ben Platt: Live from Radio City Music Hall', genre='Concert Film', premiere='May 20_ 2020', runtime=85, imdb_score=8.4, language='English'),\n",
       " Films(title='Taylor Swift: Reputation Stadium Tour', genre='Concert Film', premiere='December 31_ 2018', runtime=125, imdb_score=8.4, language='English'),\n",
       " Films(title=\"Winter on Fire: Ukraine's Fight for Freedom\", genre='Documentary', premiere='October 9_ 2015', runtime=91, imdb_score=8.4, language='English/Ukranian/Russian')]"
      ]
     },
     "execution_count": 32,
     "metadata": {},
     "output_type": "execute_result"
    }
   ],
   "source": [
    "sorted(NETFLIX, reverse=True, key=lambda x:x.imdb_score)[:6]"
   ]
  },
  {
   "cell_type": "code",
   "execution_count": 13,
   "id": "cbec0d2c",
   "metadata": {},
   "outputs": [],
   "source": [
    "mejorpeli = []\n",
    "\n",
    "def pelicula_mayor_puntuacion(lista):\n",
    "    mejorpeli.clear()\n",
    "    for elemento in lista:\n",
    "        if mejorpeli == []: \n",
    "            mejorpeli.append(elemento)\n",
    "        else:\n",
    "            if elemento.imdb_score > mejorpeli[0].imdb_score:\n",
    "                mejorpeli.clear() \n",
    "                mejorpeli.append(elemento)\n",
    "            elif elemento.imdb_score == mejorpeli[0].imdb_score:\n",
    "                mejorpeli.append(elemento)\n",
    "            else:\n",
    "                continue \n",
    "    return mejorpeli"
   ]
  },
  {
   "cell_type": "code",
   "execution_count": 14,
   "id": "91cad424",
   "metadata": {},
   "outputs": [
    {
     "data": {
      "text/plain": [
       "[Films(title='David Attenborough: A Life on Our Planet', genre='Documentary', premiere='October 4_ 2020', runtime=83, imdb_score=9.0, language='English')]"
      ]
     },
     "execution_count": 14,
     "metadata": {},
     "output_type": "execute_result"
    }
   ],
   "source": [
    "pelicula_mayor_puntuacion(NETFLIX)"
   ]
  },
  {
   "cell_type": "code",
   "execution_count": 17,
   "id": "63e698a6",
   "metadata": {},
   "outputs": [],
   "source": [
    "mayortiempo = []\n",
    "\n",
    "def pelicula_mas_duracion(lista):\n",
    "    mayortiempo.clear()\n",
    "    for tiempo in lista:\n",
    "        if mayortiempo == []: \n",
    "            mayortiempo.append(tiempo)\n",
    "        else:\n",
    "            if tiempo.runtime > mayortiempo[0].runtime:\n",
    "                mayortiempo.clear() \n",
    "                mayortiempo.append(tiempo)\n",
    "            elif tiempo.runtime == mayortiempo[0].runtime:\n",
    "                mayortiempo.append(tiempo)\n",
    "            else:\n",
    "                continue \n",
    "    return mayortiempo"
   ]
  },
  {
   "cell_type": "code",
   "execution_count": 18,
   "id": "6dec23ee",
   "metadata": {},
   "outputs": [
    {
     "data": {
      "text/plain": [
       "[Films(title='The Irishman', genre='Crime drama', premiere='November 27_ 2019', runtime=209, imdb_score=7.8, language='English')]"
      ]
     },
     "execution_count": 18,
     "metadata": {},
     "output_type": "execute_result"
    }
   ],
   "source": [
    "pelicula_mas_duracion(NETFLIX)"
   ]
  },
  {
   "cell_type": "code",
   "execution_count": null,
   "id": "31c75ff4",
   "metadata": {},
   "outputs": [],
   "source": []
  }
 ],
 "metadata": {
  "kernelspec": {
   "display_name": "Python 3 (ipykernel)",
   "language": "python",
   "name": "python3"
  },
  "language_info": {
   "codemirror_mode": {
    "name": "ipython",
    "version": 3
   },
   "file_extension": ".py",
   "mimetype": "text/x-python",
   "name": "python",
   "nbconvert_exporter": "python",
   "pygments_lexer": "ipython3",
   "version": "3.9.12"
  }
 },
 "nbformat": 4,
 "nbformat_minor": 5
}
